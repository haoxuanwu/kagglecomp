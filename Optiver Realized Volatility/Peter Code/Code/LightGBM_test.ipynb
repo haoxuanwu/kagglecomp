{
 "cells": [
  {
   "cell_type": "code",
   "execution_count": 1,
   "id": "27d0c672-f27f-4e60-8874-84d24c37b281",
   "metadata": {},
   "outputs": [],
   "source": [
    "import lightgbm as lgb\n",
    "import pandas as pd\n",
    "import os\n",
    "os.environ['KMP_DUPLICATE_LIB_OK']='True'"
   ]
  },
  {
   "cell_type": "code",
   "execution_count": 2,
   "id": "b35daf32-e688-4440-abf5-f1b0d14d7b3e",
   "metadata": {},
   "outputs": [
    {
     "data": {
      "text/html": [
       "<div>\n",
       "<style scoped>\n",
       "    .dataframe tbody tr th:only-of-type {\n",
       "        vertical-align: middle;\n",
       "    }\n",
       "\n",
       "    .dataframe tbody tr th {\n",
       "        vertical-align: top;\n",
       "    }\n",
       "\n",
       "    .dataframe thead th {\n",
       "        text-align: right;\n",
       "    }\n",
       "</style>\n",
       "<table border=\"1\" class=\"dataframe\">\n",
       "  <thead>\n",
       "    <tr style=\"text-align: right;\">\n",
       "      <th></th>\n",
       "      <th>Outlook</th>\n",
       "      <th>Temp.</th>\n",
       "      <th>Humidity</th>\n",
       "      <th>Wind</th>\n",
       "      <th>Decision</th>\n",
       "    </tr>\n",
       "  </thead>\n",
       "  <tbody>\n",
       "    <tr>\n",
       "      <th>0</th>\n",
       "      <td>Sunny</td>\n",
       "      <td>85</td>\n",
       "      <td>85</td>\n",
       "      <td>Weak</td>\n",
       "      <td>No</td>\n",
       "    </tr>\n",
       "    <tr>\n",
       "      <th>1</th>\n",
       "      <td>Sunny</td>\n",
       "      <td>80</td>\n",
       "      <td>90</td>\n",
       "      <td>Strong</td>\n",
       "      <td>No</td>\n",
       "    </tr>\n",
       "    <tr>\n",
       "      <th>2</th>\n",
       "      <td>Overcast</td>\n",
       "      <td>83</td>\n",
       "      <td>78</td>\n",
       "      <td>Weak</td>\n",
       "      <td>Yes</td>\n",
       "    </tr>\n",
       "    <tr>\n",
       "      <th>3</th>\n",
       "      <td>Rain</td>\n",
       "      <td>70</td>\n",
       "      <td>96</td>\n",
       "      <td>Weak</td>\n",
       "      <td>Yes</td>\n",
       "    </tr>\n",
       "    <tr>\n",
       "      <th>4</th>\n",
       "      <td>Rain</td>\n",
       "      <td>68</td>\n",
       "      <td>80</td>\n",
       "      <td>Weak</td>\n",
       "      <td>Yes</td>\n",
       "    </tr>\n",
       "  </tbody>\n",
       "</table>\n",
       "</div>"
      ],
      "text/plain": [
       "    Outlook  Temp.  Humidity    Wind Decision\n",
       "0     Sunny     85        85    Weak       No\n",
       "1     Sunny     80        90  Strong       No\n",
       "2  Overcast     83        78    Weak      Yes\n",
       "3      Rain     70        96    Weak      Yes\n",
       "4      Rain     68        80    Weak      Yes"
      ]
     },
     "execution_count": 2,
     "metadata": {},
     "output_type": "execute_result"
    }
   ],
   "source": [
    "dataset = pd.read_csv('golf2.txt')\n",
    "dataset.head()"
   ]
  },
  {
   "cell_type": "code",
   "execution_count": 3,
   "id": "29242f77-cef1-4f2d-a8d7-2d0b6f825c6f",
   "metadata": {},
   "outputs": [],
   "source": [
    "from sklearn import preprocessing\n",
    "le = preprocessing.LabelEncoder()\n",
    " \n",
    "features = []; categorical_features = []\n",
    "num_of_columns = dataset.shape[1]\n",
    " \n",
    "for i in range(0, num_of_columns):\n",
    "    column_name = dataset.columns[i]\n",
    "    column_type = dataset[column_name].dtypes\n",
    "    \n",
    "    if i != num_of_columns - 1: #skip target\n",
    "        features.append(column_name)\n",
    "\n",
    "    if column_type == 'object':\n",
    "        le.fit(dataset[column_name])\n",
    "        feature_classes = list(le.classes_)\n",
    "        encoded_feature = le.transform(dataset[column_name])\n",
    "        dataset[column_name] = pd.DataFrame(encoded_feature)\n",
    "\n",
    "    if i != num_of_columns - 1: #skip target\n",
    "        categorical_features.append(column_name)\n",
    "\n",
    "    if i == num_of_columns - 1:\n",
    "        num_of_classes = len(feature_classes)"
   ]
  },
  {
   "cell_type": "code",
   "execution_count": 4,
   "id": "e3bfd6fa-43a3-405d-a804-43b12f64799d",
   "metadata": {},
   "outputs": [],
   "source": [
    "y_train = dataset['Decision'].values\n",
    "x_train = dataset.drop(columns=['Decision']).values"
   ]
  },
  {
   "cell_type": "code",
   "execution_count": 5,
   "id": "0d1cc501-f576-4d6e-9479-486d18bd07ab",
   "metadata": {},
   "outputs": [],
   "source": [
    "lgb_train = lgb.Dataset(x_train, y_train\n",
    ",feature_name = features\n",
    ", categorical_feature = categorical_features\n",
    ")"
   ]
  },
  {
   "cell_type": "code",
   "execution_count": 6,
   "id": "48b48279-efe3-4ae3-acb8-a1425dd47398",
   "metadata": {},
   "outputs": [],
   "source": [
    "params = {\n",
    "'task': 'train',\n",
    "'boosting_type': 'gbdt',\n",
    "'objective': 'multiclass',\n",
    "'num_class': num_of_classes,\n",
    "'metric': 'multi_logloss',\n",
    "'min_data': 1,\n",
    "'verbose': -1\n",
    "}"
   ]
  },
  {
   "cell_type": "code",
   "execution_count": null,
   "id": "0a714fb4-78b7-48ae-b9bf-138917cea1d0",
   "metadata": {},
   "outputs": [],
   "source": [
    "gbm = lgb.train(params, lgb_train, num_boost_round=50)"
   ]
  },
  {
   "cell_type": "code",
   "execution_count": null,
   "id": "799ef30b-320d-4452-9085-9b1e0101184a",
   "metadata": {},
   "outputs": [],
   "source": []
  }
 ],
 "metadata": {
  "kernelspec": {
   "display_name": "Python 3 (ipykernel)",
   "language": "python",
   "name": "python3"
  },
  "language_info": {
   "codemirror_mode": {
    "name": "ipython",
    "version": 3
   },
   "file_extension": ".py",
   "mimetype": "text/x-python",
   "name": "python",
   "nbconvert_exporter": "python",
   "pygments_lexer": "ipython3",
   "version": "3.9.12"
  }
 },
 "nbformat": 4,
 "nbformat_minor": 5
}
