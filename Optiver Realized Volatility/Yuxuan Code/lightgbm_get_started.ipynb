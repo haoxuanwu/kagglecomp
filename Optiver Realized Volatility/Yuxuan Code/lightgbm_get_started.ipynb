{
 "cells": [
  {
   "cell_type": "code",
   "execution_count": 2,
   "metadata": {},
   "outputs": [],
   "source": [
    "%load_ext autoreload\n",
    "%autoreload 2"
   ]
  },
  {
   "cell_type": "code",
   "execution_count": 92,
   "metadata": {},
   "outputs": [],
   "source": [
    "import lightgbm as lgbm\n",
    "import optuna\n",
    "import pandas as pd\n",
    "from sklearn.model_selection import train_test_split, RandomizedSearchCV\n",
    "from scipy.stats import uniform\n",
    "from matplotlib import pyplot as plt\n",
    "import numpy as np\n",
    "from sklearn.metrics import r2_score\n",
    "from helper import *\n",
    "from make_features import *\n",
    "loc_data = '/Users/yuxuan/Desktop/kaggle_optiver/optiver-realized-volatility-prediction'"
   ]
  },
  {
   "cell_type": "code",
   "execution_count": 4,
   "metadata": {},
   "outputs": [],
   "source": [
    "def RMSPE_objective(y_true, y_pred):\n",
    "    raise NotImplementedError()\n",
    "    return grad, hess\n",
    "\n",
    "def RMSPE(y_true, y_pred):\n",
    "    digits = 5\n",
    "    err = (np.sqrt(np.mean(np.square((y_true - y_pred) / y_true))))\n",
    "    return 'RMSPE', np.round(err, digits), False\n",
    "\n",
    "def R2(y_true, y_pred):\n",
    "    digits = 5\n",
    "    return 'R2', np.round(r2_score(y_true, y_pred),digits), True"
   ]
  },
  {
   "cell_type": "code",
   "execution_count": 14,
   "metadata": {},
   "outputs": [],
   "source": [
    "df_all = pd.read_csv(f'{loc_data}/workingdata.csv', index_col = 0)"
   ]
  },
  {
   "cell_type": "code",
   "execution_count": 16,
   "metadata": {},
   "outputs": [],
   "source": [
    "index_toy = df_all.stock_id <= 20\n",
    "df_toy = df_all[index_toy]"
   ]
  },
  {
   "cell_type": "code",
   "execution_count": 17,
   "metadata": {},
   "outputs": [
    {
     "data": {
      "text/plain": [
       "(76599, 215)"
      ]
     },
     "execution_count": 17,
     "metadata": {},
     "output_type": "execute_result"
    }
   ],
   "source": [
    "df_toy.shape"
   ]
  },
  {
   "cell_type": "code",
   "execution_count": 18,
   "metadata": {},
   "outputs": [],
   "source": [
    "X = df_toy.drop(columns = ['stock_id', 'time_id', 'target'])\n",
    "y = df_toy.target"
   ]
  },
  {
   "cell_type": "code",
   "execution_count": 24,
   "metadata": {},
   "outputs": [],
   "source": [
    "X_train, X_eval, y_train, y_eval = train_test_split(X, y, test_size=0.2, \n",
    "                                                    random_state = 101)\n",
    "eval_set = [(X_eval, y_eval)] "
   ]
  },
  {
   "cell_type": "code",
   "execution_count": 56,
   "metadata": {},
   "outputs": [],
   "source": [
    "def run_lgbm(X_train, y_train, eval_set, **lgbm_args):\n",
    "    # supress eval output\n",
    "    reg = lgbm.LGBMRegressor(**lgbm_args)\n",
    "    reg.fit(X_train, y_train,\n",
    "            eval_set = eval_set,\n",
    "            eval_metric = ['l2', R2, RMSPE],\n",
    "            callbacks = [lgbm.log_evaluation(period=0)]\n",
    "           )\n",
    "    \n",
    "    fig, ax = plt.subplots(1, 3, figsize = (10, 4))\n",
    "    for i,name in enumerate(['l2', 'R2', 'RMSPE']):\n",
    "        lgbm.plot_metric(reg, ax = ax[i], metric = name, title = name)\n",
    "    fig.tight_layout()\n",
    "    \n",
    "    print('best score')\n",
    "    print(reg.best_score_['valid_0'])\n",
    "    return reg"
   ]
  },
  {
   "cell_type": "code",
   "execution_count": 76,
   "metadata": {},
   "outputs": [
    {
     "data": {
      "text/plain": [
       "0.1305500071802504"
      ]
     },
     "execution_count": 76,
     "metadata": {},
     "output_type": "execute_result"
    }
   ],
   "source": [
    "8000 / (76599 * 0.8)"
   ]
  },
  {
   "cell_type": "code",
   "execution_count": 86,
   "metadata": {},
   "outputs": [],
   "source": [
    "def make_param_grid(trial):\n",
    "        param_grid = {\n",
    "        \"n_estimators\": trial.suggest_categorical(\"n_estimators\", [2000]),\n",
    "        \"learning_rate\": trial.suggest_float(\"learning_rate\", 0.01, 0.3),\n",
    "        \"num_leaves\": trial.suggest_int(\"num_leaves\", 20, 1020, step=40),\n",
    "        \"max_depth\": trial.suggest_int(\"max_depth\", 3, 10),\n",
    "        \"min_data_in_leaf\": trial.suggest_int(\"min_data_in_leaf\", 200, 8000, step=100),\n",
    "        \"min_gain_to_split\": trial.suggest_float(\"min_gain_to_split\", 0, 15),\n",
    "        \"feature_fraction\": trial.suggest_float(\n",
    "            \"feature_fraction\", 0.2, 0.9, step=0.1\n",
    "        ),\n",
    "        }\n",
    "        \n",
    "        return param_grid"
   ]
  },
  {
   "cell_type": "code",
   "execution_count": 87,
   "metadata": {},
   "outputs": [],
   "source": [
    "def objective(trial, X, y, metric = 'RMSPE'):\n",
    "    param_grid = make_param_grid(trial)\n",
    "    X_train, X_eval, y_train, y_eval = train_test_split(X, y, test_size=0.2, \n",
    "                                                    random_state = 101)\n",
    "    eval_set = [(X_eval, y_eval)] \n",
    "\n",
    "    model = lgbm.LGBMRegressor(**param_grid)\n",
    "    model.fit(\n",
    "        X_train,\n",
    "        y_train,\n",
    "        eval_set=[(X_eval, y_eval)],\n",
    "        eval_names = 'validation',\n",
    "        eval_metric= RMSPE,\n",
    "        callbacks = [lgbm.log_evaluation(period=0)]\n",
    "    )\n",
    "\n",
    "    return model.evals_result_['validation'][metric][-1]"
   ]
  },
  {
   "cell_type": "code",
   "execution_count": 88,
   "metadata": {},
   "outputs": [
    {
     "name": "stderr",
     "output_type": "stream",
     "text": [
      "\u001b[32m[I 2022-07-19 11:09:37,517]\u001b[0m A new study created in memory with name: LGBM\u001b[0m\n",
      "\u001b[32m[I 2022-07-19 11:09:55,469]\u001b[0m Trial 0 finished with value: 2.77433 and parameters: {'n_estimators': 2000, 'learning_rate': 0.10768368831554392, 'num_leaves': 820, 'max_depth': 7, 'min_data_in_leaf': 6300, 'min_gain_to_split': 14.254427528626843, 'feature_fraction': 0.6000000000000001}. Best is trial 0 with value: 2.77433.\u001b[0m\n",
      "\u001b[32m[I 2022-07-19 11:10:10,254]\u001b[0m Trial 1 finished with value: 2.77433 and parameters: {'n_estimators': 2000, 'learning_rate': 0.29951546671062473, 'num_leaves': 420, 'max_depth': 3, 'min_data_in_leaf': 400, 'min_gain_to_split': 11.513273068937915, 'feature_fraction': 0.5}. Best is trial 0 with value: 2.77433.\u001b[0m\n",
      "\u001b[32m[I 2022-07-19 11:10:25,311]\u001b[0m Trial 2 finished with value: 2.77433 and parameters: {'n_estimators': 2000, 'learning_rate': 0.08434013489974858, 'num_leaves': 900, 'max_depth': 5, 'min_data_in_leaf': 1600, 'min_gain_to_split': 3.5900357428881002, 'feature_fraction': 0.5}. Best is trial 0 with value: 2.77433.\u001b[0m\n",
      "\u001b[32m[I 2022-07-19 11:10:34,861]\u001b[0m Trial 3 finished with value: 2.77433 and parameters: {'n_estimators': 2000, 'learning_rate': 0.24175266692465885, 'num_leaves': 860, 'max_depth': 9, 'min_data_in_leaf': 2600, 'min_gain_to_split': 11.841592976258312, 'feature_fraction': 0.2}. Best is trial 0 with value: 2.77433.\u001b[0m\n",
      "\u001b[32m[I 2022-07-19 11:10:51,587]\u001b[0m Trial 4 finished with value: 2.77433 and parameters: {'n_estimators': 2000, 'learning_rate': 0.2866319008324801, 'num_leaves': 540, 'max_depth': 5, 'min_data_in_leaf': 2700, 'min_gain_to_split': 13.798938230771261, 'feature_fraction': 0.30000000000000004}. Best is trial 0 with value: 2.77433.\u001b[0m\n",
      "\u001b[32m[I 2022-07-19 11:11:10,810]\u001b[0m Trial 5 finished with value: 2.77433 and parameters: {'n_estimators': 2000, 'learning_rate': 0.1304140672189475, 'num_leaves': 940, 'max_depth': 4, 'min_data_in_leaf': 6800, 'min_gain_to_split': 4.180460640105909, 'feature_fraction': 0.7}. Best is trial 0 with value: 2.77433.\u001b[0m\n",
      "\u001b[32m[I 2022-07-19 11:11:41,187]\u001b[0m Trial 6 finished with value: 2.77433 and parameters: {'n_estimators': 2000, 'learning_rate': 0.05175204307207007, 'num_leaves': 500, 'max_depth': 3, 'min_data_in_leaf': 4400, 'min_gain_to_split': 14.846043594315596, 'feature_fraction': 0.7}. Best is trial 0 with value: 2.77433.\u001b[0m\n",
      "\u001b[32m[I 2022-07-19 11:12:11,541]\u001b[0m Trial 7 finished with value: 2.77433 and parameters: {'n_estimators': 2000, 'learning_rate': 0.21775316617625584, 'num_leaves': 220, 'max_depth': 4, 'min_data_in_leaf': 4000, 'min_gain_to_split': 1.3010960863096672, 'feature_fraction': 0.4}. Best is trial 0 with value: 2.77433.\u001b[0m\n",
      "\u001b[32m[I 2022-07-19 11:12:32,550]\u001b[0m Trial 8 finished with value: 2.77433 and parameters: {'n_estimators': 2000, 'learning_rate': 0.28087987065302816, 'num_leaves': 60, 'max_depth': 7, 'min_data_in_leaf': 7600, 'min_gain_to_split': 2.3663173894234575, 'feature_fraction': 0.5}. Best is trial 0 with value: 2.77433.\u001b[0m\n",
      "\u001b[32m[I 2022-07-19 11:12:52,380]\u001b[0m Trial 9 finished with value: 2.77433 and parameters: {'n_estimators': 2000, 'learning_rate': 0.15615895812304062, 'num_leaves': 500, 'max_depth': 10, 'min_data_in_leaf': 4500, 'min_gain_to_split': 11.32334093713299, 'feature_fraction': 0.7}. Best is trial 0 with value: 2.77433.\u001b[0m\n"
     ]
    },
    {
     "name": "stdout",
     "output_type": "stream",
     "text": [
      "[optuna]  194.864sec\n"
     ]
    }
   ],
   "source": [
    "with timer('optuna'):\n",
    "    study = optuna.create_study(direction=\"minimize\", study_name=\"LGBM\")\n",
    "    func = lambda trial: objective(trial, X, y)\n",
    "    study.optimize(func, n_trials=10)"
   ]
  },
  {
   "cell_type": "code",
   "execution_count": 58,
   "metadata": {},
   "outputs": [
    {
     "name": "stdout",
     "output_type": "stream",
     "text": [
      "best score\n",
      "OrderedDict([('l2', 1.8827346741461822e-06), ('R2', 0.8249), ('RMSPE', 0.27123)])\n",
      "[lgbm run]  4.935sec\n"
     ]
    },
    {
     "data": {
      "image/png": "[encoded data removed]",
      "text/plain": [
       "<Figure size 720x288 with 3 Axes>"
      ]
     },
     "metadata": {
      "needs_background": "light"
     },
     "output_type": "display_data"
    }
   ],
   "source": [
    "# default\n",
    "with timer('lgbm run'):\n",
    "    m = run_lgbm(X_train, y_train, eval_set, \n",
    "             n_estimators = 100,\n",
    "             learning_rate = 0.1,\n",
    "             random_state = 101\n",
    "            )"
   ]
  },
  {
   "cell_type": "code",
   "execution_count": 61,
   "metadata": {},
   "outputs": [
    {
     "name": "stdout",
     "output_type": "stream",
     "text": [
      "best score\n",
      "OrderedDict([('l2', 1.8539393060949814e-06), ('R2', 0.82758), ('RMSPE', 0.26808)])\n",
      "[lgbm run]  50.053sec\n"
     ]
    },
    {
     "data": {
      "image/png": "[encoded data removed]",
      "text/plain": [
       "<Figure size 720x288 with 3 Axes>"
      ]
     },
     "metadata": {
      "needs_background": "light"
     },
     "output_type": "display_data"
    }
   ],
   "source": [
    "with timer('lgbm run'):\n",
    "    m = run_lgbm(X_train, y_train, eval_set, \n",
    "             n_estimators = 2000,\n",
    "             learning_rate = 0.01,\n",
    "             random_state = 101\n",
    "            )"
   ]
  },
  {
   "cell_type": "code",
   "execution_count": 62,
   "metadata": {},
   "outputs": [
    {
     "name": "stdout",
     "output_type": "stream",
     "text": [
      "best score\n",
      "OrderedDict([('l2', 1.8858853940652814e-06), ('R2', 0.82461), ('RMSPE', 0.26805)])\n",
      "[lgbm run]  46.879sec\n"
     ]
    },
    {
     "data": {
      "image/png": "[encoded data removed]",
      "text/plain": [
       "<Figure size 720x288 with 3 Axes>"
      ]
     },
     "metadata": {
      "needs_background": "light"
     },
     "output_type": "display_data"
    }
   ],
   "source": [
    "with timer('lgbm run'):\n",
    "    m = run_lgbm(X_train, y_train, eval_set, \n",
    "             n_estimators = 2000,\n",
    "             learning_rate = 0.05,\n",
    "             random_state = 101\n",
    "            )"
   ]
  },
  {
   "cell_type": "code",
   "execution_count": 63,
   "metadata": {},
   "outputs": [
    {
     "name": "stdout",
     "output_type": "stream",
     "text": [
      "best score\n",
      "OrderedDict([('l2', 1.8513091286916452e-06), ('R2', 0.82782), ('RMSPE', 0.26628)])\n",
      "[lgbm run]  114.604sec\n"
     ]
    },
    {
     "data": {
      "image/png": "[encoded data removed]",
      "text/plain": [
       "<Figure size 720x288 with 3 Axes>"
      ]
     },
     "metadata": {
      "needs_background": "light"
     },
     "output_type": "display_data"
    }
   ],
   "source": [
    "with timer('lgbm run'):\n",
    "    m = run_lgbm(X_train, y_train, eval_set, \n",
    "             n_estimators = 5000,\n",
    "             learning_rate = 0.01,\n",
    "             random_state = 101\n",
    "            )"
   ]
  },
  {
   "cell_type": "code",
   "execution_count": 64,
   "metadata": {},
   "outputs": [
    {
     "name": "stdout",
     "output_type": "stream",
     "text": [
      "best score\n",
      "OrderedDict([('l2', 1.8544775760315884e-06), ('R2', 0.82753), ('RMSPE', 0.26919)])\n",
      "[lgbm run]  41.979sec\n"
     ]
    },
    {
     "data": {
      "image/png": "[encoded data removed]",
      "text/plain": [
       "<Figure size 720x288 with 3 Axes>"
      ]
     },
     "metadata": {
      "needs_background": "light"
     },
     "output_type": "display_data"
    }
   ],
   "source": [
    "with timer('lgbm run'):\n",
    "    m = run_lgbm(X_train, y_train, eval_set, \n",
    "                 n_estimators = 2000,\n",
    "                 learning_rate = 0.01,\n",
    "                 random_state = 101,\n",
    "                 max_depth = 7,\n",
    "                 num_leaves = 20\n",
    "                )"
   ]
  },
  {
   "cell_type": "code",
   "execution_count": 65,
   "metadata": {},
   "outputs": [
    {
     "name": "stdout",
     "output_type": "stream",
     "text": [
      "best score\n",
      "OrderedDict([('l2', 1.8561866401158658e-06), ('R2', 0.82737), ('RMSPE', 0.26798)])\n",
      "[lgbm run]  41.989sec\n"
     ]
    },
    {
     "data": {
      "image/png": "[encoded data removed]",
      "text/plain": [
       "<Figure size 720x288 with 3 Axes>"
      ]
     },
     "metadata": {
      "needs_background": "light"
     },
     "output_type": "display_data"
    }
   ],
   "source": [
    "with timer('lgbm run'):\n",
    "    m = run_lgbm(X_train, y_train, eval_set, \n",
    "                 n_estimators = 2000,\n",
    "                 learning_rate = 0.01,\n",
    "                 random_state = 101,\n",
    "                 feature_fraction = 0.8\n",
    "                )"
   ]
  },
  {
   "cell_type": "code",
   "execution_count": 66,
   "metadata": {},
   "outputs": [
    {
     "data": {
      "text/plain": [
       "LGBMRegressor(boosting_type='gbdt', class_weight=None, colsample_bytree=1.0,\n",
       "              feature_fraction=0.8, importance_type='split', learning_rate=0.01,\n",
       "              max_depth=-1, min_child_samples=20, min_child_weight=0.001,\n",
       "              min_split_gain=0.0, n_estimators=2000, n_jobs=-1, num_leaves=31,\n",
       "              objective=None, random_state=101, reg_alpha=0.0, reg_lambda=0.0,\n",
       "              silent='warn', subsample=1.0, subsample_for_bin=200000,\n",
       "              subsample_freq=0)"
      ]
     },
     "execution_count": 66,
     "metadata": {},
     "output_type": "execute_result"
    }
   ],
   "source": [
    "m"
   ]
  },
  {
   "cell_type": "code",
   "execution_count": 73,
   "metadata": {},
   "outputs": [
    {
     "data": {
      "text/plain": [
       "[0.26797,\n",
       " 0.26797,\n",
       " 0.26797,\n",
       " 0.26797,\n",
       " 0.26797,\n",
       " 0.26797,\n",
       " 0.26797,\n",
       " 0.26797,\n",
       " 0.26797,\n",
       " 0.26798]"
      ]
     },
     "execution_count": 73,
     "metadata": {},
     "output_type": "execute_result"
    }
   ],
   "source": [
    "m.evals_result_['valid_0']['RMSPE'][-10:]"
   ]
  },
  {
   "cell_type": "code",
   "execution_count": 108,
   "metadata": {},
   "outputs": [],
   "source": [
    "# distributions = {'learning_rate' : uniform(loc = 0.01, scale = 0.19),\n",
    "#                  'feature_fraction' : uniform(loc = 0.3, scale = 0.8),\n",
    "#                  'max_depth' : np.arange(3, 11),\n",
    "#                  'min_data_in_leaf' : np.arange(3000, 21000, 1000),\n",
    "#                 }\n",
    "\n",
    "distributions = {'learning_rate' : uniform(loc = 0.01, scale = 0.19),\n",
    "                 'colsample_bytree' : uniform(loc = 0.3, scale = 0.6),\n",
    "                 'max_depth' : np.arange(6, 11),\n",
    "                 'min_child_samples' : np.arange(500, 5500, 500),\n",
    "                 'num_leaves' : np.arange(100, 900, 100),\n",
    "                }"
   ]
  },
  {
   "cell_type": "code",
   "execution_count": 109,
   "metadata": {},
   "outputs": [],
   "source": [
    "reg = lgbm.LGBMRegressor(n_estimators = 2000)"
   ]
  },
  {
   "cell_type": "code",
   "execution_count": 110,
   "metadata": {},
   "outputs": [],
   "source": [
    "clf = RandomizedSearchCV(reg, distributions, \n",
    "                         n_iter = 10,\n",
    "                         random_state=0)"
   ]
  },
  {
   "cell_type": "code",
   "execution_count": 111,
   "metadata": {},
   "outputs": [
    {
     "name": "stdout",
     "output_type": "stream",
     "text": [
      "[lgbm random search 5CV]  1186.749sec\n"
     ]
    }
   ],
   "source": [
    "with timer('lgbm random search 5CV'):\n",
    "    search = clf.fit(X, y)"
   ]
  },
  {
   "cell_type": "code",
   "execution_count": 112,
   "metadata": {},
   "outputs": [
    {
     "data": {
      "text/html": [
       "<div>\n",
       "<style scoped>\n",
       "    .dataframe tbody tr th:only-of-type {\n",
       "        vertical-align: middle;\n",
       "    }\n",
       "\n",
       "    .dataframe tbody tr th {\n",
       "        vertical-align: top;\n",
       "    }\n",
       "\n",
       "    .dataframe thead th {\n",
       "        text-align: right;\n",
       "    }\n",
       "</style>\n",
       "<table border=\"1\" class=\"dataframe\">\n",
       "  <thead>\n",
       "    <tr style=\"text-align: right;\">\n",
       "      <th></th>\n",
       "      <th>mean_fit_time</th>\n",
       "      <th>std_fit_time</th>\n",
       "      <th>mean_score_time</th>\n",
       "      <th>std_score_time</th>\n",
       "      <th>param_colsample_bytree</th>\n",
       "      <th>param_learning_rate</th>\n",
       "      <th>param_max_depth</th>\n",
       "      <th>param_min_child_samples</th>\n",
       "      <th>param_num_leaves</th>\n",
       "      <th>params</th>\n",
       "      <th>split0_test_score</th>\n",
       "      <th>split1_test_score</th>\n",
       "      <th>split2_test_score</th>\n",
       "      <th>split3_test_score</th>\n",
       "      <th>split4_test_score</th>\n",
       "      <th>mean_test_score</th>\n",
       "      <th>std_test_score</th>\n",
       "      <th>rank_test_score</th>\n",
       "    </tr>\n",
       "  </thead>\n",
       "  <tbody>\n",
       "    <tr>\n",
       "      <th>0</th>\n",
       "      <td>23.890165</td>\n",
       "      <td>0.433947</td>\n",
       "      <td>1.004950</td>\n",
       "      <td>0.020928</td>\n",
       "      <td>0.629288</td>\n",
       "      <td>0.145886</td>\n",
       "      <td>9</td>\n",
       "      <td>2000</td>\n",
       "      <td>800</td>\n",
       "      <td>{'colsample_bytree': 0.6292881023563948, 'lear...</td>\n",
       "      <td>0.813389</td>\n",
       "      <td>0.789573</td>\n",
       "      <td>0.772033</td>\n",
       "      <td>0.798292</td>\n",
       "      <td>0.783856</td>\n",
       "      <td>0.791429</td>\n",
       "      <td>0.013902</td>\n",
       "      <td>6</td>\n",
       "    </tr>\n",
       "    <tr>\n",
       "      <th>1</th>\n",
       "      <td>26.328425</td>\n",
       "      <td>2.256228</td>\n",
       "      <td>0.957922</td>\n",
       "      <td>0.024464</td>\n",
       "      <td>0.554193</td>\n",
       "      <td>0.13272</td>\n",
       "      <td>10</td>\n",
       "      <td>4000</td>\n",
       "      <td>700</td>\n",
       "      <td>{'colsample_bytree': 0.5541928796033428, 'lear...</td>\n",
       "      <td>0.810152</td>\n",
       "      <td>0.789293</td>\n",
       "      <td>0.770376</td>\n",
       "      <td>0.788550</td>\n",
       "      <td>0.770712</td>\n",
       "      <td>0.785817</td>\n",
       "      <td>0.014686</td>\n",
       "      <td>8</td>\n",
       "    </tr>\n",
       "    <tr>\n",
       "      <th>2</th>\n",
       "      <td>14.082915</td>\n",
       "      <td>0.147003</td>\n",
       "      <td>0.856607</td>\n",
       "      <td>0.012320</td>\n",
       "      <td>0.334028</td>\n",
       "      <td>0.061805</td>\n",
       "      <td>7</td>\n",
       "      <td>3500</td>\n",
       "      <td>800</td>\n",
       "      <td>{'colsample_bytree': 0.3340277863904659, 'lear...</td>\n",
       "      <td>0.814945</td>\n",
       "      <td>0.792771</td>\n",
       "      <td>0.775856</td>\n",
       "      <td>0.792674</td>\n",
       "      <td>0.772906</td>\n",
       "      <td>0.789830</td>\n",
       "      <td>0.015028</td>\n",
       "      <td>7</td>\n",
       "    </tr>\n",
       "    <tr>\n",
       "      <th>3</th>\n",
       "      <td>23.675355</td>\n",
       "      <td>0.215254</td>\n",
       "      <td>0.838107</td>\n",
       "      <td>0.026873</td>\n",
       "      <td>0.617337</td>\n",
       "      <td>0.117928</td>\n",
       "      <td>7</td>\n",
       "      <td>4500</td>\n",
       "      <td>200</td>\n",
       "      <td>{'colsample_bytree': 0.6173369518517426, 'lear...</td>\n",
       "      <td>0.809495</td>\n",
       "      <td>0.787309</td>\n",
       "      <td>0.769291</td>\n",
       "      <td>0.785360</td>\n",
       "      <td>0.766285</td>\n",
       "      <td>0.783548</td>\n",
       "      <td>0.015440</td>\n",
       "      <td>9</td>\n",
       "    </tr>\n",
       "    <tr>\n",
       "      <th>4</th>\n",
       "      <td>21.169987</td>\n",
       "      <td>0.208395</td>\n",
       "      <td>0.793488</td>\n",
       "      <td>0.033405</td>\n",
       "      <td>0.688903</td>\n",
       "      <td>0.079966</td>\n",
       "      <td>6</td>\n",
       "      <td>1500</td>\n",
       "      <td>400</td>\n",
       "      <td>{'colsample_bytree': 0.6889031232307183, 'lear...</td>\n",
       "      <td>0.816581</td>\n",
       "      <td>0.798407</td>\n",
       "      <td>0.779632</td>\n",
       "      <td>0.801501</td>\n",
       "      <td>0.786759</td>\n",
       "      <td>0.796576</td>\n",
       "      <td>0.012738</td>\n",
       "      <td>1</td>\n",
       "    </tr>\n",
       "    <tr>\n",
       "      <th>5</th>\n",
       "      <td>28.081747</td>\n",
       "      <td>0.430307</td>\n",
       "      <td>0.992671</td>\n",
       "      <td>0.033043</td>\n",
       "      <td>0.779495</td>\n",
       "      <td>0.097681</td>\n",
       "      <td>9</td>\n",
       "      <td>2000</td>\n",
       "      <td>700</td>\n",
       "      <td>{'colsample_bytree': 0.7794951385300342, 'lear...</td>\n",
       "      <td>0.815679</td>\n",
       "      <td>0.793194</td>\n",
       "      <td>0.775635</td>\n",
       "      <td>0.801004</td>\n",
       "      <td>0.783991</td>\n",
       "      <td>0.793901</td>\n",
       "      <td>0.013835</td>\n",
       "      <td>3</td>\n",
       "    </tr>\n",
       "    <tr>\n",
       "      <th>6</th>\n",
       "      <td>24.506650</td>\n",
       "      <td>2.250721</td>\n",
       "      <td>0.923125</td>\n",
       "      <td>0.038839</td>\n",
       "      <td>0.73238</td>\n",
       "      <td>0.120584</td>\n",
       "      <td>7</td>\n",
       "      <td>500</td>\n",
       "      <td>800</td>\n",
       "      <td>{'colsample_bytree': 0.7323795928355501, 'lear...</td>\n",
       "      <td>0.808814</td>\n",
       "      <td>0.789423</td>\n",
       "      <td>0.774268</td>\n",
       "      <td>0.799522</td>\n",
       "      <td>0.788138</td>\n",
       "      <td>0.792033</td>\n",
       "      <td>0.011621</td>\n",
       "      <td>5</td>\n",
       "    </tr>\n",
       "    <tr>\n",
       "      <th>7</th>\n",
       "      <td>14.591474</td>\n",
       "      <td>0.272321</td>\n",
       "      <td>1.000728</td>\n",
       "      <td>0.008632</td>\n",
       "      <td>0.363545</td>\n",
       "      <td>0.099984</td>\n",
       "      <td>9</td>\n",
       "      <td>1500</td>\n",
       "      <td>800</td>\n",
       "      <td>{'colsample_bytree': 0.36354456431267523, 'lea...</td>\n",
       "      <td>0.815329</td>\n",
       "      <td>0.796105</td>\n",
       "      <td>0.775233</td>\n",
       "      <td>0.800387</td>\n",
       "      <td>0.786690</td>\n",
       "      <td>0.794749</td>\n",
       "      <td>0.013439</td>\n",
       "      <td>2</td>\n",
       "    </tr>\n",
       "    <tr>\n",
       "      <th>8</th>\n",
       "      <td>19.351350</td>\n",
       "      <td>0.245026</td>\n",
       "      <td>1.034573</td>\n",
       "      <td>0.028688</td>\n",
       "      <td>0.42993</td>\n",
       "      <td>0.035691</td>\n",
       "      <td>10</td>\n",
       "      <td>3000</td>\n",
       "      <td>600</td>\n",
       "      <td>{'colsample_bytree': 0.4299302126546231, 'lear...</td>\n",
       "      <td>0.816299</td>\n",
       "      <td>0.795775</td>\n",
       "      <td>0.779064</td>\n",
       "      <td>0.796562</td>\n",
       "      <td>0.775417</td>\n",
       "      <td>0.792623</td>\n",
       "      <td>0.014601</td>\n",
       "      <td>4</td>\n",
       "    </tr>\n",
       "    <tr>\n",
       "      <th>9</th>\n",
       "      <td>27.306759</td>\n",
       "      <td>0.069063</td>\n",
       "      <td>0.876160</td>\n",
       "      <td>0.039669</td>\n",
       "      <td>0.667257</td>\n",
       "      <td>0.127217</td>\n",
       "      <td>10</td>\n",
       "      <td>5000</td>\n",
       "      <td>300</td>\n",
       "      <td>{'colsample_bytree': 0.6672574336334528, 'lear...</td>\n",
       "      <td>0.807581</td>\n",
       "      <td>0.784757</td>\n",
       "      <td>0.766613</td>\n",
       "      <td>0.783179</td>\n",
       "      <td>0.761497</td>\n",
       "      <td>0.780725</td>\n",
       "      <td>0.016201</td>\n",
       "      <td>10</td>\n",
       "    </tr>\n",
       "  </tbody>\n",
       "</table>\n",
       "</div>"
      ],
      "text/plain": [
       "   mean_fit_time  std_fit_time  mean_score_time  std_score_time  \\\n",
       "0      23.890165      0.433947         1.004950        0.020928   \n",
       "1      26.328425      2.256228         0.957922        0.024464   \n",
       "2      14.082915      0.147003         0.856607        0.012320   \n",
       "3      23.675355      0.215254         0.838107        0.026873   \n",
       "4      21.169987      0.208395         0.793488        0.033405   \n",
       "5      28.081747      0.430307         0.992671        0.033043   \n",
       "6      24.506650      2.250721         0.923125        0.038839   \n",
       "7      14.591474      0.272321         1.000728        0.008632   \n",
       "8      19.351350      0.245026         1.034573        0.028688   \n",
       "9      27.306759      0.069063         0.876160        0.039669   \n",
       "\n",
       "  param_colsample_bytree param_learning_rate param_max_depth  \\\n",
       "0               0.629288            0.145886               9   \n",
       "1               0.554193             0.13272              10   \n",
       "2               0.334028            0.061805               7   \n",
       "3               0.617337            0.117928               7   \n",
       "4               0.688903            0.079966               6   \n",
       "5               0.779495            0.097681               9   \n",
       "6                0.73238            0.120584               7   \n",
       "7               0.363545            0.099984               9   \n",
       "8                0.42993            0.035691              10   \n",
       "9               0.667257            0.127217              10   \n",
       "\n",
       "  param_min_child_samples param_num_leaves  \\\n",
       "0                    2000              800   \n",
       "1                    4000              700   \n",
       "2                    3500              800   \n",
       "3                    4500              200   \n",
       "4                    1500              400   \n",
       "5                    2000              700   \n",
       "6                     500              800   \n",
       "7                    1500              800   \n",
       "8                    3000              600   \n",
       "9                    5000              300   \n",
       "\n",
       "                                              params  split0_test_score  \\\n",
       "0  {'colsample_bytree': 0.6292881023563948, 'lear...           0.813389   \n",
       "1  {'colsample_bytree': 0.5541928796033428, 'lear...           0.810152   \n",
       "2  {'colsample_bytree': 0.3340277863904659, 'lear...           0.814945   \n",
       "3  {'colsample_bytree': 0.6173369518517426, 'lear...           0.809495   \n",
       "4  {'colsample_bytree': 0.6889031232307183, 'lear...           0.816581   \n",
       "5  {'colsample_bytree': 0.7794951385300342, 'lear...           0.815679   \n",
       "6  {'colsample_bytree': 0.7323795928355501, 'lear...           0.808814   \n",
       "7  {'colsample_bytree': 0.36354456431267523, 'lea...           0.815329   \n",
       "8  {'colsample_bytree': 0.4299302126546231, 'lear...           0.816299   \n",
       "9  {'colsample_bytree': 0.6672574336334528, 'lear...           0.807581   \n",
       "\n",
       "   split1_test_score  split2_test_score  split3_test_score  split4_test_score  \\\n",
       "0           0.789573           0.772033           0.798292           0.783856   \n",
       "1           0.789293           0.770376           0.788550           0.770712   \n",
       "2           0.792771           0.775856           0.792674           0.772906   \n",
       "3           0.787309           0.769291           0.785360           0.766285   \n",
       "4           0.798407           0.779632           0.801501           0.786759   \n",
       "5           0.793194           0.775635           0.801004           0.783991   \n",
       "6           0.789423           0.774268           0.799522           0.788138   \n",
       "7           0.796105           0.775233           0.800387           0.786690   \n",
       "8           0.795775           0.779064           0.796562           0.775417   \n",
       "9           0.784757           0.766613           0.783179           0.761497   \n",
       "\n",
       "   mean_test_score  std_test_score  rank_test_score  \n",
       "0         0.791429        0.013902                6  \n",
       "1         0.785817        0.014686                8  \n",
       "2         0.789830        0.015028                7  \n",
       "3         0.783548        0.015440                9  \n",
       "4         0.796576        0.012738                1  \n",
       "5         0.793901        0.013835                3  \n",
       "6         0.792033        0.011621                5  \n",
       "7         0.794749        0.013439                2  \n",
       "8         0.792623        0.014601                4  \n",
       "9         0.780725        0.016201               10  "
      ]
     },
     "execution_count": 112,
     "metadata": {},
     "output_type": "execute_result"
    }
   ],
   "source": [
    "pd.DataFrame(search.cv_results_)"
   ]
  },
  {
   "cell_type": "code",
   "execution_count": null,
   "metadata": {},
   "outputs": [],
   "source": []
  }
 ],
 "metadata": {
  "kernelspec": {
   "display_name": "Python 3 (ipykernel)",
   "language": "python",
   "name": "python3"
  },
  "language_info": {
   "codemirror_mode": {
    "name": "ipython",
    "version": 3
   },
   "file_extension": ".py",
   "mimetype": "text/x-python",
   "name": "python",
   "nbconvert_exporter": "python",
   "pygments_lexer": "ipython3",
   "version": "3.7.6"
  }
 },
 "nbformat": 4,
 "nbformat_minor": 4
}
