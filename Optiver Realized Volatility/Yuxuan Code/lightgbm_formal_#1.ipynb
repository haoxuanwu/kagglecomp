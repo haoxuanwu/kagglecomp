{
 "cells": [
  {
   "cell_type": "code",
   "execution_count": 1,
   "metadata": {},
   "outputs": [],
   "source": [
    "%load_ext autoreload\n",
    "%autoreload 2"
   ]
  },
  {
   "cell_type": "code",
   "execution_count": 23,
   "metadata": {},
   "outputs": [],
   "source": [
    "import lightgbm as lgbm\n",
    "import pandas as pd\n",
    "from sklearn.model_selection import train_test_split, RandomizedSearchCV\n",
    "from scipy.stats import uniform\n",
    "import numpy as np\n",
    "from sklearn.metrics import r2_score\n",
    "from helper import *\n",
    "from make_features import *\n",
    "from helper_lgbm import *\n",
    "loc_data = '/Users/yuxuan/Desktop/kaggle_optiver/optiver-realized-volatility-prediction'"
   ]
  },
  {
   "cell_type": "code",
   "execution_count": 8,
   "metadata": {},
   "outputs": [],
   "source": [
    "df_train = pd.read_csv(f'{loc_data}/workingdata_train.csv', index_col = 0)"
   ]
  },
  {
   "cell_type": "code",
   "execution_count": 9,
   "metadata": {},
   "outputs": [],
   "source": [
    "X = df_train.drop(columns = ['stock_id', 'time_id', 'target'])\n",
    "y = df_train.target"
   ]
  },
  {
   "cell_type": "code",
   "execution_count": 10,
   "metadata": {},
   "outputs": [
    {
     "data": {
      "text/plain": [
       "((340844, 212), (340844,))"
      ]
     },
     "execution_count": 10,
     "metadata": {},
     "output_type": "execute_result"
    }
   ],
   "source": [
    "X.shape, y.shape"
   ]
  },
  {
   "cell_type": "code",
   "execution_count": 11,
   "metadata": {},
   "outputs": [
    {
     "data": {
      "text/html": [
       "<div>\n",
       "<style scoped>\n",
       "    .dataframe tbody tr th:only-of-type {\n",
       "        vertical-align: middle;\n",
       "    }\n",
       "\n",
       "    .dataframe tbody tr th {\n",
       "        vertical-align: top;\n",
       "    }\n",
       "\n",
       "    .dataframe thead th {\n",
       "        text-align: right;\n",
       "    }\n",
       "</style>\n",
       "<table border=\"1\" class=\"dataframe\">\n",
       "  <thead>\n",
       "    <tr style=\"text-align: right;\">\n",
       "      <th></th>\n",
       "      <th>book.seconds_in_bucket.count</th>\n",
       "      <th>book.wap1.sum</th>\n",
       "      <th>book.wap1.mean</th>\n",
       "      <th>book.wap1.std</th>\n",
       "      <th>book.wap2.sum</th>\n",
       "      <th>book.wap2.mean</th>\n",
       "      <th>book.wap2.std</th>\n",
       "      <th>book.log_return1.sum</th>\n",
       "      <th>book.log_return1.realized_volatility</th>\n",
       "      <th>book.log_return1.mean</th>\n",
       "      <th>...</th>\n",
       "      <th>trade_450.size.sum</th>\n",
       "      <th>trade_450.order_count.mean</th>\n",
       "      <th>trade_300.log_return.realized_volatility</th>\n",
       "      <th>trade_300.seconds_in_bucket.count</th>\n",
       "      <th>trade_300.size.sum</th>\n",
       "      <th>trade_300.order_count.mean</th>\n",
       "      <th>trade_150.log_return.realized_volatility</th>\n",
       "      <th>trade_150.seconds_in_bucket.count</th>\n",
       "      <th>trade_150.size.sum</th>\n",
       "      <th>trade_150.order_count.mean</th>\n",
       "    </tr>\n",
       "  </thead>\n",
       "  <tbody>\n",
       "    <tr>\n",
       "      <th>0</th>\n",
       "      <td>302</td>\n",
       "      <td>303.125061</td>\n",
       "      <td>1.003725</td>\n",
       "      <td>0.000693</td>\n",
       "      <td>303.105539</td>\n",
       "      <td>1.003661</td>\n",
       "      <td>0.000781</td>\n",
       "      <td>0.002292</td>\n",
       "      <td>0.004499</td>\n",
       "      <td>7.613599e-06</td>\n",
       "      <td>...</td>\n",
       "      <td>1042.0</td>\n",
       "      <td>2.642857</td>\n",
       "      <td>0.001308</td>\n",
       "      <td>21.0</td>\n",
       "      <td>1587.0</td>\n",
       "      <td>2.571429</td>\n",
       "      <td>0.001701</td>\n",
       "      <td>30.0</td>\n",
       "      <td>2069.0</td>\n",
       "      <td>2.433333</td>\n",
       "    </tr>\n",
       "    <tr>\n",
       "      <th>1</th>\n",
       "      <td>200</td>\n",
       "      <td>200.047768</td>\n",
       "      <td>1.000239</td>\n",
       "      <td>0.000262</td>\n",
       "      <td>200.041171</td>\n",
       "      <td>1.000206</td>\n",
       "      <td>0.000272</td>\n",
       "      <td>0.000360</td>\n",
       "      <td>0.001204</td>\n",
       "      <td>1.810239e-06</td>\n",
       "      <td>...</td>\n",
       "      <td>828.0</td>\n",
       "      <td>2.200000</td>\n",
       "      <td>0.000587</td>\n",
       "      <td>16.0</td>\n",
       "      <td>900.0</td>\n",
       "      <td>2.250000</td>\n",
       "      <td>0.000813</td>\n",
       "      <td>24.0</td>\n",
       "      <td>1173.0</td>\n",
       "      <td>2.041667</td>\n",
       "    </tr>\n",
       "    <tr>\n",
       "      <th>2</th>\n",
       "      <td>188</td>\n",
       "      <td>187.913849</td>\n",
       "      <td>0.999542</td>\n",
       "      <td>0.000864</td>\n",
       "      <td>187.939824</td>\n",
       "      <td>0.999680</td>\n",
       "      <td>0.000862</td>\n",
       "      <td>-0.002074</td>\n",
       "      <td>0.002369</td>\n",
       "      <td>-1.109201e-05</td>\n",
       "      <td>...</td>\n",
       "      <td>1085.0</td>\n",
       "      <td>3.666667</td>\n",
       "      <td>0.001137</td>\n",
       "      <td>12.0</td>\n",
       "      <td>1189.0</td>\n",
       "      <td>3.166667</td>\n",
       "      <td>0.001621</td>\n",
       "      <td>20.0</td>\n",
       "      <td>2010.0</td>\n",
       "      <td>2.950000</td>\n",
       "    </tr>\n",
       "    <tr>\n",
       "      <th>3</th>\n",
       "      <td>120</td>\n",
       "      <td>119.859781</td>\n",
       "      <td>0.998832</td>\n",
       "      <td>0.000757</td>\n",
       "      <td>119.835941</td>\n",
       "      <td>0.998633</td>\n",
       "      <td>0.000656</td>\n",
       "      <td>-0.002828</td>\n",
       "      <td>0.002574</td>\n",
       "      <td>-2.376661e-05</td>\n",
       "      <td>...</td>\n",
       "      <td>514.0</td>\n",
       "      <td>3.666667</td>\n",
       "      <td>0.001089</td>\n",
       "      <td>9.0</td>\n",
       "      <td>1556.0</td>\n",
       "      <td>5.111111</td>\n",
       "      <td>0.001401</td>\n",
       "      <td>11.0</td>\n",
       "      <td>1631.0</td>\n",
       "      <td>4.545455</td>\n",
       "    </tr>\n",
       "    <tr>\n",
       "      <th>4</th>\n",
       "      <td>176</td>\n",
       "      <td>175.932865</td>\n",
       "      <td>0.999619</td>\n",
       "      <td>0.000258</td>\n",
       "      <td>175.934256</td>\n",
       "      <td>0.999626</td>\n",
       "      <td>0.000317</td>\n",
       "      <td>-0.000002</td>\n",
       "      <td>0.001894</td>\n",
       "      <td>-1.057099e-08</td>\n",
       "      <td>...</td>\n",
       "      <td>43.0</td>\n",
       "      <td>3.500000</td>\n",
       "      <td>0.000453</td>\n",
       "      <td>11.0</td>\n",
       "      <td>1219.0</td>\n",
       "      <td>4.909091</td>\n",
       "      <td>0.000550</td>\n",
       "      <td>16.0</td>\n",
       "      <td>1570.0</td>\n",
       "      <td>4.500000</td>\n",
       "    </tr>\n",
       "  </tbody>\n",
       "</table>\n",
       "<p>5 rows × 212 columns</p>\n",
       "</div>"
      ],
      "text/plain": [
       "   book.seconds_in_bucket.count  book.wap1.sum  book.wap1.mean  book.wap1.std  \\\n",
       "0                           302     303.125061        1.003725       0.000693   \n",
       "1                           200     200.047768        1.000239       0.000262   \n",
       "2                           188     187.913849        0.999542       0.000864   \n",
       "3                           120     119.859781        0.998832       0.000757   \n",
       "4                           176     175.932865        0.999619       0.000258   \n",
       "\n",
       "   book.wap2.sum  book.wap2.mean  book.wap2.std  book.log_return1.sum  \\\n",
       "0     303.105539        1.003661       0.000781              0.002292   \n",
       "1     200.041171        1.000206       0.000272              0.000360   \n",
       "2     187.939824        0.999680       0.000862             -0.002074   \n",
       "3     119.835941        0.998633       0.000656             -0.002828   \n",
       "4     175.934256        0.999626       0.000317             -0.000002   \n",
       "\n",
       "   book.log_return1.realized_volatility  book.log_return1.mean  ...  \\\n",
       "0                              0.004499           7.613599e-06  ...   \n",
       "1                              0.001204           1.810239e-06  ...   \n",
       "2                              0.002369          -1.109201e-05  ...   \n",
       "3                              0.002574          -2.376661e-05  ...   \n",
       "4                              0.001894          -1.057099e-08  ...   \n",
       "\n",
       "   trade_450.size.sum  trade_450.order_count.mean  \\\n",
       "0              1042.0                    2.642857   \n",
       "1               828.0                    2.200000   \n",
       "2              1085.0                    3.666667   \n",
       "3               514.0                    3.666667   \n",
       "4                43.0                    3.500000   \n",
       "\n",
       "   trade_300.log_return.realized_volatility  \\\n",
       "0                                  0.001308   \n",
       "1                                  0.000587   \n",
       "2                                  0.001137   \n",
       "3                                  0.001089   \n",
       "4                                  0.000453   \n",
       "\n",
       "   trade_300.seconds_in_bucket.count  trade_300.size.sum  \\\n",
       "0                               21.0              1587.0   \n",
       "1                               16.0               900.0   \n",
       "2                               12.0              1189.0   \n",
       "3                                9.0              1556.0   \n",
       "4                               11.0              1219.0   \n",
       "\n",
       "   trade_300.order_count.mean  trade_150.log_return.realized_volatility  \\\n",
       "0                    2.571429                                  0.001701   \n",
       "1                    2.250000                                  0.000813   \n",
       "2                    3.166667                                  0.001621   \n",
       "3                    5.111111                                  0.001401   \n",
       "4                    4.909091                                  0.000550   \n",
       "\n",
       "   trade_150.seconds_in_bucket.count  trade_150.size.sum  \\\n",
       "0                               30.0              2069.0   \n",
       "1                               24.0              1173.0   \n",
       "2                               20.0              2010.0   \n",
       "3                               11.0              1631.0   \n",
       "4                               16.0              1570.0   \n",
       "\n",
       "   trade_150.order_count.mean  \n",
       "0                    2.433333  \n",
       "1                    2.041667  \n",
       "2                    2.950000  \n",
       "3                    4.545455  \n",
       "4                    4.500000  \n",
       "\n",
       "[5 rows x 212 columns]"
      ]
     },
     "execution_count": 11,
     "metadata": {},
     "output_type": "execute_result"
    }
   ],
   "source": [
    "X.head()"
   ]
  },
  {
   "cell_type": "code",
   "execution_count": 12,
   "metadata": {},
   "outputs": [],
   "source": [
    "X_train, X_eval, y_train, y_eval = train_test_split(X, y, test_size=0.2, \n",
    "                                                    random_state = 101)\n",
    "eval_set = [(X_eval, y_eval)]"
   ]
  },
  {
   "cell_type": "code",
   "execution_count": 16,
   "metadata": {},
   "outputs": [
    {
     "name": "stdout",
     "output_type": "stream",
     "text": [
      "best score\n",
      "OrderedDict([('l2', 1.5089385102619183e-06), ('R2', 0.81583), ('RMSPE', 0.28708)])\n",
      "[lgbm run]  32.522sec\n"
     ]
    },
    {
     "data": {
      "image/png": "[encoded data removed]",
      "text/plain": [
       "<Figure size 720x288 with 3 Axes>"
      ]
     },
     "metadata": {
      "needs_background": "light"
     },
     "output_type": "display_data"
    }
   ],
   "source": [
    "# default\n",
    "with timer('lgbm run'):\n",
    "    m = run_lgbm(X_train, y_train, eval_set, \n",
    "             n_estimators = 100,\n",
    "             learning_rate = 0.1,\n",
    "             random_state = 101\n",
    "            )"
   ]
  },
  {
   "cell_type": "code",
   "execution_count": 18,
   "metadata": {},
   "outputs": [
    {
     "name": "stdout",
     "output_type": "stream",
     "text": [
      "best score\n",
      "OrderedDict([('l2', 1.4567033987632042e-06), ('R2', 0.82221), ('RMSPE', 0.28092)])\n",
      "[lgbm run]  167.683sec\n"
     ]
    },
    {
     "data": {
      "image/png": "[encoded data removed]",
      "text/plain": [
       "<Figure size 720x288 with 3 Axes>"
      ]
     },
     "metadata": {
      "needs_background": "light"
     },
     "output_type": "display_data"
    }
   ],
   "source": [
    "with timer('lgbm run'):\n",
    "    m = run_lgbm(X_train, y_train, eval_set, \n",
    "             n_estimators = 2000,\n",
    "             learning_rate = 0.05,\n",
    "             random_state = 101\n",
    "            )"
   ]
  },
  {
   "cell_type": "code",
   "execution_count": 19,
   "metadata": {},
   "outputs": [
    {
     "name": "stdout",
     "output_type": "stream",
     "text": [
      "best score\n",
      "OrderedDict([('l2', 1.45731100425623e-06), ('R2', 0.82214), ('RMSPE', 0.28218)])\n",
      "[lgbm run]  463.050sec\n"
     ]
    },
    {
     "data": {
      "image/png": "[encoded data removed]",
      "text/plain": [
       "<Figure size 720x288 with 3 Axes>"
      ]
     },
     "metadata": {
      "needs_background": "light"
     },
     "output_type": "display_data"
    }
   ],
   "source": [
    "with timer('lgbm run'):\n",
    "    m = run_lgbm(X_train, y_train, eval_set, \n",
    "             n_estimators = 5000,\n",
    "             learning_rate = 0.01,\n",
    "             random_state = 101\n",
    "            )"
   ]
  },
  {
   "cell_type": "code",
   "execution_count": 24,
   "metadata": {},
   "outputs": [],
   "source": [
    "# distributions = {'learning_rate' = uniform(loc = 0.01, scale = 0.19),\n",
    "#                  'feature_fraction' = uniform(loc = 0.3, scale = 0.8),\n",
    "#                  'max_depth' = np.arange(3, 11),\n",
    "#                  'min_data_in_leaf' = np.arange(3000, 21000, 1000),\n",
    "#                  'num_leaves' = \n",
    "#                  'min_gain_to_split' = \n",
    "#                 }\n",
    "\n",
    "distributions = {'learning_rate' : uniform(loc = 0.01, scale = 0.19),\n",
    "                 'colsample_bytree' : uniform(loc = 0.3, scale = 0.6),\n",
    "                 'max_depth' : np.arange(4, 11),\n",
    "                 'min_child_samples' : np.arange(3000, 21000, 2000),\n",
    "                 'num_leaves' : np.arange(30, 930, 50),\n",
    "                }"
   ]
  },
  {
   "cell_type": "code",
   "execution_count": 25,
   "metadata": {},
   "outputs": [],
   "source": [
    "reg = lgbm.LGBMRegressor(n_estimators = 2000)"
   ]
  },
  {
   "cell_type": "code",
   "execution_count": 29,
   "metadata": {},
   "outputs": [
    {
     "name": "stdout",
     "output_type": "stream",
     "text": [
      "[lgbm random search 5CV]  4727.518sec\n"
     ]
    }
   ],
   "source": [
    "clf = RandomizedSearchCV(reg, distributions, \n",
    "                         n_iter = 10,\n",
    "                         random_state=0, n_jobs=-1)\n",
    "\n",
    "with timer('lgbm random search 5CV'):\n",
    "    search = clf.fit(X, y)"
   ]
  },
  {
   "cell_type": "code",
   "execution_count": 31,
   "metadata": {},
   "outputs": [],
   "source": [
    "cv_r = pd.DataFrame(search.cv_results_)"
   ]
  },
  {
   "cell_type": "code",
   "execution_count": 39,
   "metadata": {},
   "outputs": [
    {
     "data": {
      "text/plain": [
       "(0.8158536682132176, 0.7878545225006441)"
      ]
     },
     "execution_count": 39,
     "metadata": {},
     "output_type": "execute_result"
    }
   ],
   "source": [
    "cv_r.mean_test_score.max(), cv_r.mean_test_score.min()"
   ]
  },
  {
   "cell_type": "code",
   "execution_count": 40,
   "metadata": {},
   "outputs": [
    {
     "data": {
      "text/plain": [
       "10"
      ]
     },
     "execution_count": 40,
     "metadata": {},
     "output_type": "execute_result"
    }
   ],
   "source": [
    "len(cv_r)"
   ]
  },
  {
   "cell_type": "code",
   "execution_count": 34,
   "metadata": {},
   "outputs": [
    {
     "name": "stdout",
     "output_type": "stream",
     "text": [
      "[lgbm random search 5CV]  8846.125sec\n"
     ]
    }
   ],
   "source": [
    "clf = RandomizedSearchCV(reg, distributions, \n",
    "                         n_iter = 20,\n",
    "                         random_state=0, n_jobs=-1)\n",
    "\n",
    "with timer('lgbm random search 5CV'):\n",
    "    search = clf.fit(X, y)"
   ]
  },
  {
   "cell_type": "code",
   "execution_count": 35,
   "metadata": {},
   "outputs": [],
   "source": [
    "cv_r_longer = pd.DataFrame(search.cv_results_)"
   ]
  },
  {
   "cell_type": "code",
   "execution_count": 38,
   "metadata": {},
   "outputs": [
    {
     "data": {
      "text/plain": [
       "(0.8158536682132176, 0.7878545225006441)"
      ]
     },
     "execution_count": 38,
     "metadata": {},
     "output_type": "execute_result"
    }
   ],
   "source": [
    "cv_r_longer.mean_test_score.max(), cv_r_longer.mean_test_score.min()"
   ]
  },
  {
   "cell_type": "code",
   "execution_count": 41,
   "metadata": {},
   "outputs": [
    {
     "data": {
      "text/plain": [
       "20"
      ]
     },
     "execution_count": 41,
     "metadata": {},
     "output_type": "execute_result"
    }
   ],
   "source": [
    "len(cv_r_longer)"
   ]
  }
 ],
 "metadata": {
  "kernelspec": {
   "display_name": "Python 3 (ipykernel)",
   "language": "python",
   "name": "python3"
  },
  "language_info": {
   "codemirror_mode": {
    "name": "ipython",
    "version": 3
   },
   "file_extension": ".py",
   "mimetype": "text/x-python",
   "name": "python",
   "nbconvert_exporter": "python",
   "pygments_lexer": "ipython3",
   "version": "3.7.6"
  }
 },
 "nbformat": 4,
 "nbformat_minor": 4
}
