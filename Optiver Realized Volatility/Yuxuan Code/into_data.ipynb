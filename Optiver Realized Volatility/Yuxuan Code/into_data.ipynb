{
 "cells": [
  {
   "cell_type": "code",
   "execution_count": 1,
   "metadata": {},
   "outputs": [],
   "source": [
    "%load_ext autoreload\n",
    "%autoreload 2"
   ]
  },
  {
   "cell_type": "code",
   "execution_count": 28,
   "metadata": {},
   "outputs": [],
   "source": [
    "from helper import *\n",
    "import glob"
   ]
  },
  {
   "cell_type": "code",
   "execution_count": 3,
   "metadata": {},
   "outputs": [],
   "source": [
    "loc_data = '/Users/yuxuan/Desktop/kaggle_optiver/optiver-realized-volatility-prediction'"
   ]
  },
  {
   "cell_type": "code",
   "execution_count": 39,
   "metadata": {},
   "outputs": [
    {
     "data": {
      "text/plain": [
       "['/Users/yuxuan/Desktop/kaggle_optiver/optiver-realized-volatility-prediction/book_train.parquet/stock_id=17',\n",
       " '/Users/yuxuan/Desktop/kaggle_optiver/optiver-realized-volatility-prediction/book_train.parquet/stock_id=28',\n",
       " '/Users/yuxuan/Desktop/kaggle_optiver/optiver-realized-volatility-prediction/book_train.parquet/stock_id=10',\n",
       " '/Users/yuxuan/Desktop/kaggle_optiver/optiver-realized-volatility-prediction/book_train.parquet/stock_id=26',\n",
       " '/Users/yuxuan/Desktop/kaggle_optiver/optiver-realized-volatility-prediction/book_train.parquet/stock_id=19',\n",
       " '/Users/yuxuan/Desktop/kaggle_optiver/optiver-realized-volatility-prediction/book_train.parquet/stock_id=21',\n",
       " '/Users/yuxuan/Desktop/kaggle_optiver/optiver-realized-volatility-prediction/book_train.parquet/stock_id=75',\n",
       " '/Users/yuxuan/Desktop/kaggle_optiver/optiver-realized-volatility-prediction/book_train.parquet/stock_id=81',\n",
       " '/Users/yuxuan/Desktop/kaggle_optiver/optiver-realized-volatility-prediction/book_train.parquet/stock_id=86',\n",
       " '/Users/yuxuan/Desktop/kaggle_optiver/optiver-realized-volatility-prediction/book_train.parquet/stock_id=72',\n",
       " '/Users/yuxuan/Desktop/kaggle_optiver/optiver-realized-volatility-prediction/book_train.parquet/stock_id=44',\n",
       " '/Users/yuxuan/Desktop/kaggle_optiver/optiver-realized-volatility-prediction/book_train.parquet/stock_id=88',\n",
       " '/Users/yuxuan/Desktop/kaggle_optiver/optiver-realized-volatility-prediction/book_train.parquet/stock_id=43',\n",
       " '/Users/yuxuan/Desktop/kaggle_optiver/optiver-realized-volatility-prediction/book_train.parquet/stock_id=20',\n",
       " '/Users/yuxuan/Desktop/kaggle_optiver/optiver-realized-volatility-prediction/book_train.parquet/stock_id=27',\n",
       " '/Users/yuxuan/Desktop/kaggle_optiver/optiver-realized-volatility-prediction/book_train.parquet/stock_id=18',\n",
       " '/Users/yuxuan/Desktop/kaggle_optiver/optiver-realized-volatility-prediction/book_train.parquet/stock_id=11',\n",
       " '/Users/yuxuan/Desktop/kaggle_optiver/optiver-realized-volatility-prediction/book_train.parquet/stock_id=16',\n",
       " '/Users/yuxuan/Desktop/kaggle_optiver/optiver-realized-volatility-prediction/book_train.parquet/stock_id=29',\n",
       " '/Users/yuxuan/Desktop/kaggle_optiver/optiver-realized-volatility-prediction/book_train.parquet/stock_id=89',\n",
       " '/Users/yuxuan/Desktop/kaggle_optiver/optiver-realized-volatility-prediction/book_train.parquet/stock_id=42',\n",
       " '/Users/yuxuan/Desktop/kaggle_optiver/optiver-realized-volatility-prediction/book_train.parquet/stock_id=73',\n",
       " '/Users/yuxuan/Desktop/kaggle_optiver/optiver-realized-volatility-prediction/book_train.parquet/stock_id=87',\n",
       " '/Users/yuxuan/Desktop/kaggle_optiver/optiver-realized-volatility-prediction/book_train.parquet/stock_id=80',\n",
       " '/Users/yuxuan/Desktop/kaggle_optiver/optiver-realized-volatility-prediction/book_train.parquet/stock_id=74',\n",
       " '/Users/yuxuan/Desktop/kaggle_optiver/optiver-realized-volatility-prediction/book_train.parquet/stock_id=103',\n",
       " '/Users/yuxuan/Desktop/kaggle_optiver/optiver-realized-volatility-prediction/book_train.parquet/stock_id=104',\n",
       " '/Users/yuxuan/Desktop/kaggle_optiver/optiver-realized-volatility-prediction/book_train.parquet/stock_id=105',\n",
       " '/Users/yuxuan/Desktop/kaggle_optiver/optiver-realized-volatility-prediction/book_train.parquet/stock_id=102',\n",
       " '/Users/yuxuan/Desktop/kaggle_optiver/optiver-realized-volatility-prediction/book_train.parquet/stock_id=120',\n",
       " '/Users/yuxuan/Desktop/kaggle_optiver/optiver-realized-volatility-prediction/book_train.parquet/stock_id=118',\n",
       " '/Users/yuxuan/Desktop/kaggle_optiver/optiver-realized-volatility-prediction/book_train.parquet/stock_id=111',\n",
       " '/Users/yuxuan/Desktop/kaggle_optiver/optiver-realized-volatility-prediction/book_train.parquet/stock_id=116',\n",
       " '/Users/yuxuan/Desktop/kaggle_optiver/optiver-realized-volatility-prediction/book_train.parquet/stock_id=110',\n",
       " '/Users/yuxuan/Desktop/kaggle_optiver/optiver-realized-volatility-prediction/book_train.parquet/stock_id=119',\n",
       " '/Users/yuxuan/Desktop/kaggle_optiver/optiver-realized-volatility-prediction/book_train.parquet/stock_id=126',\n",
       " '/Users/yuxuan/Desktop/kaggle_optiver/optiver-realized-volatility-prediction/book_train.parquet/stock_id=7',\n",
       " '/Users/yuxuan/Desktop/kaggle_optiver/optiver-realized-volatility-prediction/book_train.parquet/stock_id=56',\n",
       " '/Users/yuxuan/Desktop/kaggle_optiver/optiver-realized-volatility-prediction/book_train.parquet/stock_id=69',\n",
       " '/Users/yuxuan/Desktop/kaggle_optiver/optiver-realized-volatility-prediction/book_train.parquet/stock_id=51',\n",
       " '/Users/yuxuan/Desktop/kaggle_optiver/optiver-realized-volatility-prediction/book_train.parquet/stock_id=0',\n",
       " '/Users/yuxuan/Desktop/kaggle_optiver/optiver-realized-volatility-prediction/book_train.parquet/stock_id=67',\n",
       " '/Users/yuxuan/Desktop/kaggle_optiver/optiver-realized-volatility-prediction/book_train.parquet/stock_id=93',\n",
       " '/Users/yuxuan/Desktop/kaggle_optiver/optiver-realized-volatility-prediction/book_train.parquet/stock_id=58',\n",
       " '/Users/yuxuan/Desktop/kaggle_optiver/optiver-realized-volatility-prediction/book_train.parquet/stock_id=9',\n",
       " '/Users/yuxuan/Desktop/kaggle_optiver/optiver-realized-volatility-prediction/book_train.parquet/stock_id=94',\n",
       " '/Users/yuxuan/Desktop/kaggle_optiver/optiver-realized-volatility-prediction/book_train.parquet/stock_id=60',\n",
       " '/Users/yuxuan/Desktop/kaggle_optiver/optiver-realized-volatility-prediction/book_train.parquet/stock_id=34',\n",
       " '/Users/yuxuan/Desktop/kaggle_optiver/optiver-realized-volatility-prediction/book_train.parquet/stock_id=33',\n",
       " '/Users/yuxuan/Desktop/kaggle_optiver/optiver-realized-volatility-prediction/book_train.parquet/stock_id=61',\n",
       " '/Users/yuxuan/Desktop/kaggle_optiver/optiver-realized-volatility-prediction/book_train.parquet/stock_id=95',\n",
       " '/Users/yuxuan/Desktop/kaggle_optiver/optiver-realized-volatility-prediction/book_train.parquet/stock_id=66',\n",
       " '/Users/yuxuan/Desktop/kaggle_optiver/optiver-realized-volatility-prediction/book_train.parquet/stock_id=8',\n",
       " '/Users/yuxuan/Desktop/kaggle_optiver/optiver-realized-volatility-prediction/book_train.parquet/stock_id=59',\n",
       " '/Users/yuxuan/Desktop/kaggle_optiver/optiver-realized-volatility-prediction/book_train.parquet/stock_id=1',\n",
       " '/Users/yuxuan/Desktop/kaggle_optiver/optiver-realized-volatility-prediction/book_train.parquet/stock_id=50',\n",
       " '/Users/yuxuan/Desktop/kaggle_optiver/optiver-realized-volatility-prediction/book_train.parquet/stock_id=6',\n",
       " '/Users/yuxuan/Desktop/kaggle_optiver/optiver-realized-volatility-prediction/book_train.parquet/stock_id=68',\n",
       " '/Users/yuxuan/Desktop/kaggle_optiver/optiver-realized-volatility-prediction/book_train.parquet/stock_id=32',\n",
       " '/Users/yuxuan/Desktop/kaggle_optiver/optiver-realized-volatility-prediction/book_train.parquet/stock_id=35',\n",
       " '/Users/yuxuan/Desktop/kaggle_optiver/optiver-realized-volatility-prediction/book_train.parquet/stock_id=85',\n",
       " '/Users/yuxuan/Desktop/kaggle_optiver/optiver-realized-volatility-prediction/book_train.parquet/stock_id=76',\n",
       " '/Users/yuxuan/Desktop/kaggle_optiver/optiver-realized-volatility-prediction/book_train.parquet/stock_id=82',\n",
       " '/Users/yuxuan/Desktop/kaggle_optiver/optiver-realized-volatility-prediction/book_train.parquet/stock_id=40',\n",
       " '/Users/yuxuan/Desktop/kaggle_optiver/optiver-realized-volatility-prediction/book_train.parquet/stock_id=78',\n",
       " '/Users/yuxuan/Desktop/kaggle_optiver/optiver-realized-volatility-prediction/book_train.parquet/stock_id=47',\n",
       " '/Users/yuxuan/Desktop/kaggle_optiver/optiver-realized-volatility-prediction/book_train.parquet/stock_id=13',\n",
       " '/Users/yuxuan/Desktop/kaggle_optiver/optiver-realized-volatility-prediction/book_train.parquet/stock_id=14',\n",
       " '/Users/yuxuan/Desktop/kaggle_optiver/optiver-realized-volatility-prediction/book_train.parquet/stock_id=22',\n",
       " '/Users/yuxuan/Desktop/kaggle_optiver/optiver-realized-volatility-prediction/book_train.parquet/stock_id=46',\n",
       " '/Users/yuxuan/Desktop/kaggle_optiver/optiver-realized-volatility-prediction/book_train.parquet/stock_id=41',\n",
       " '/Users/yuxuan/Desktop/kaggle_optiver/optiver-realized-volatility-prediction/book_train.parquet/stock_id=48',\n",
       " '/Users/yuxuan/Desktop/kaggle_optiver/optiver-realized-volatility-prediction/book_train.parquet/stock_id=83',\n",
       " '/Users/yuxuan/Desktop/kaggle_optiver/optiver-realized-volatility-prediction/book_train.parquet/stock_id=77',\n",
       " '/Users/yuxuan/Desktop/kaggle_optiver/optiver-realized-volatility-prediction/book_train.parquet/stock_id=70',\n",
       " '/Users/yuxuan/Desktop/kaggle_optiver/optiver-realized-volatility-prediction/book_train.parquet/stock_id=84',\n",
       " '/Users/yuxuan/Desktop/kaggle_optiver/optiver-realized-volatility-prediction/book_train.parquet/stock_id=23',\n",
       " '/Users/yuxuan/Desktop/kaggle_optiver/optiver-realized-volatility-prediction/book_train.parquet/stock_id=15',\n",
       " '/Users/yuxuan/Desktop/kaggle_optiver/optiver-realized-volatility-prediction/book_train.parquet/stock_id=107',\n",
       " '/Users/yuxuan/Desktop/kaggle_optiver/optiver-realized-volatility-prediction/book_train.parquet/stock_id=100',\n",
       " '/Users/yuxuan/Desktop/kaggle_optiver/optiver-realized-volatility-prediction/book_train.parquet/stock_id=109',\n",
       " '/Users/yuxuan/Desktop/kaggle_optiver/optiver-realized-volatility-prediction/book_train.parquet/stock_id=108',\n",
       " '/Users/yuxuan/Desktop/kaggle_optiver/optiver-realized-volatility-prediction/book_train.parquet/stock_id=101',\n",
       " '/Users/yuxuan/Desktop/kaggle_optiver/optiver-realized-volatility-prediction/book_train.parquet/stock_id=124',\n",
       " '/Users/yuxuan/Desktop/kaggle_optiver/optiver-realized-volatility-prediction/book_train.parquet/stock_id=123',\n",
       " '/Users/yuxuan/Desktop/kaggle_optiver/optiver-realized-volatility-prediction/book_train.parquet/stock_id=115',\n",
       " '/Users/yuxuan/Desktop/kaggle_optiver/optiver-realized-volatility-prediction/book_train.parquet/stock_id=112',\n",
       " '/Users/yuxuan/Desktop/kaggle_optiver/optiver-realized-volatility-prediction/book_train.parquet/stock_id=113',\n",
       " '/Users/yuxuan/Desktop/kaggle_optiver/optiver-realized-volatility-prediction/book_train.parquet/stock_id=114',\n",
       " '/Users/yuxuan/Desktop/kaggle_optiver/optiver-realized-volatility-prediction/book_train.parquet/stock_id=122',\n",
       " '/Users/yuxuan/Desktop/kaggle_optiver/optiver-realized-volatility-prediction/book_train.parquet/stock_id=125',\n",
       " '/Users/yuxuan/Desktop/kaggle_optiver/optiver-realized-volatility-prediction/book_train.parquet/stock_id=30',\n",
       " '/Users/yuxuan/Desktop/kaggle_optiver/optiver-realized-volatility-prediction/book_train.parquet/stock_id=37',\n",
       " '/Users/yuxuan/Desktop/kaggle_optiver/optiver-realized-volatility-prediction/book_train.parquet/stock_id=39',\n",
       " '/Users/yuxuan/Desktop/kaggle_optiver/optiver-realized-volatility-prediction/book_train.parquet/stock_id=52',\n",
       " '/Users/yuxuan/Desktop/kaggle_optiver/optiver-realized-volatility-prediction/book_train.parquet/stock_id=3',\n",
       " '/Users/yuxuan/Desktop/kaggle_optiver/optiver-realized-volatility-prediction/book_train.parquet/stock_id=99',\n",
       " '/Users/yuxuan/Desktop/kaggle_optiver/optiver-realized-volatility-prediction/book_train.parquet/stock_id=4',\n",
       " '/Users/yuxuan/Desktop/kaggle_optiver/optiver-realized-volatility-prediction/book_train.parquet/stock_id=55',\n",
       " '/Users/yuxuan/Desktop/kaggle_optiver/optiver-realized-volatility-prediction/book_train.parquet/stock_id=97',\n",
       " '/Users/yuxuan/Desktop/kaggle_optiver/optiver-realized-volatility-prediction/book_train.parquet/stock_id=63',\n",
       " '/Users/yuxuan/Desktop/kaggle_optiver/optiver-realized-volatility-prediction/book_train.parquet/stock_id=64',\n",
       " '/Users/yuxuan/Desktop/kaggle_optiver/optiver-realized-volatility-prediction/book_train.parquet/stock_id=90',\n",
       " '/Users/yuxuan/Desktop/kaggle_optiver/optiver-realized-volatility-prediction/book_train.parquet/stock_id=38',\n",
       " '/Users/yuxuan/Desktop/kaggle_optiver/optiver-realized-volatility-prediction/book_train.parquet/stock_id=36',\n",
       " '/Users/yuxuan/Desktop/kaggle_optiver/optiver-realized-volatility-prediction/book_train.parquet/stock_id=31',\n",
       " '/Users/yuxuan/Desktop/kaggle_optiver/optiver-realized-volatility-prediction/book_train.parquet/stock_id=62',\n",
       " '/Users/yuxuan/Desktop/kaggle_optiver/optiver-realized-volatility-prediction/book_train.parquet/stock_id=96',\n",
       " '/Users/yuxuan/Desktop/kaggle_optiver/optiver-realized-volatility-prediction/book_train.parquet/stock_id=5',\n",
       " '/Users/yuxuan/Desktop/kaggle_optiver/optiver-realized-volatility-prediction/book_train.parquet/stock_id=2',\n",
       " '/Users/yuxuan/Desktop/kaggle_optiver/optiver-realized-volatility-prediction/book_train.parquet/stock_id=53',\n",
       " '/Users/yuxuan/Desktop/kaggle_optiver/optiver-realized-volatility-prediction/book_train.parquet/stock_id=98']"
      ]
     },
     "execution_count": 39,
     "metadata": {},
     "output_type": "execute_result"
    }
   ],
   "source": [
    "list_order_book_file_train"
   ]
  },
  {
   "cell_type": "code",
   "execution_count": 6,
   "metadata": {},
   "outputs": [],
   "source": [
    "list_order_book_file_train = glob.glob(f'{loc_data}/book_train.parquet/*')\n",
    "list_trade_file_train = glob.glob(f'{loc_data}/trade_train.parquet/*')"
   ]
  },
  {
   "cell_type": "code",
   "execution_count": 7,
   "metadata": {},
   "outputs": [],
   "source": [
    "df0_order_book = pd.read_parquet(list_order_book_file_train[0])\n",
    "df0_trade = pd.read_parquet(list_trade_file_train[0])"
   ]
  },
  {
   "cell_type": "code",
   "execution_count": 10,
   "metadata": {},
   "outputs": [],
   "source": [
    "df0_all = df0_order_book.merge(df0_trade, \n",
    "                               on = ['time_id', 'seconds_in_bucket'],\n",
    "                               how = 'left'\n",
    "                              )"
   ]
  },
  {
   "cell_type": "code",
   "execution_count": 8,
   "metadata": {},
   "outputs": [
    {
     "data": {
      "text/html": [
       "<div>\n",
       "<style scoped>\n",
       "    .dataframe tbody tr th:only-of-type {\n",
       "        vertical-align: middle;\n",
       "    }\n",
       "\n",
       "    .dataframe tbody tr th {\n",
       "        vertical-align: top;\n",
       "    }\n",
       "\n",
       "    .dataframe thead th {\n",
       "        text-align: right;\n",
       "    }\n",
       "</style>\n",
       "<table border=\"1\" class=\"dataframe\">\n",
       "  <thead>\n",
       "    <tr style=\"text-align: right;\">\n",
       "      <th></th>\n",
       "      <th>time_id</th>\n",
       "      <th>seconds_in_bucket</th>\n",
       "      <th>bid_price1</th>\n",
       "      <th>ask_price1</th>\n",
       "      <th>bid_price2</th>\n",
       "      <th>ask_price2</th>\n",
       "      <th>bid_size1</th>\n",
       "      <th>ask_size1</th>\n",
       "      <th>bid_size2</th>\n",
       "      <th>ask_size2</th>\n",
       "    </tr>\n",
       "  </thead>\n",
       "  <tbody>\n",
       "    <tr>\n",
       "      <th>0</th>\n",
       "      <td>5</td>\n",
       "      <td>0</td>\n",
       "      <td>1.001186</td>\n",
       "      <td>1.001581</td>\n",
       "      <td>1.001044</td>\n",
       "      <td>1.001750</td>\n",
       "      <td>100</td>\n",
       "      <td>200</td>\n",
       "      <td>63</td>\n",
       "      <td>100</td>\n",
       "    </tr>\n",
       "    <tr>\n",
       "      <th>1</th>\n",
       "      <td>5</td>\n",
       "      <td>2</td>\n",
       "      <td>1.001186</td>\n",
       "      <td>1.001581</td>\n",
       "      <td>1.001016</td>\n",
       "      <td>1.001750</td>\n",
       "      <td>100</td>\n",
       "      <td>100</td>\n",
       "      <td>63</td>\n",
       "      <td>100</td>\n",
       "    </tr>\n",
       "    <tr>\n",
       "      <th>2</th>\n",
       "      <td>5</td>\n",
       "      <td>4</td>\n",
       "      <td>1.001186</td>\n",
       "      <td>1.001750</td>\n",
       "      <td>1.001016</td>\n",
       "      <td>1.002032</td>\n",
       "      <td>176</td>\n",
       "      <td>100</td>\n",
       "      <td>63</td>\n",
       "      <td>2</td>\n",
       "    </tr>\n",
       "    <tr>\n",
       "      <th>3</th>\n",
       "      <td>5</td>\n",
       "      <td>5</td>\n",
       "      <td>1.001355</td>\n",
       "      <td>1.001750</td>\n",
       "      <td>1.001186</td>\n",
       "      <td>1.001891</td>\n",
       "      <td>100</td>\n",
       "      <td>100</td>\n",
       "      <td>76</td>\n",
       "      <td>63</td>\n",
       "    </tr>\n",
       "    <tr>\n",
       "      <th>4</th>\n",
       "      <td>5</td>\n",
       "      <td>6</td>\n",
       "      <td>1.001355</td>\n",
       "      <td>1.001750</td>\n",
       "      <td>1.001186</td>\n",
       "      <td>1.002032</td>\n",
       "      <td>200</td>\n",
       "      <td>100</td>\n",
       "      <td>76</td>\n",
       "      <td>2</td>\n",
       "    </tr>\n",
       "  </tbody>\n",
       "</table>\n",
       "</div>"
      ],
      "text/plain": [
       "   time_id  seconds_in_bucket  bid_price1  ask_price1  bid_price2  ask_price2  \\\n",
       "0        5                  0    1.001186    1.001581    1.001044    1.001750   \n",
       "1        5                  2    1.001186    1.001581    1.001016    1.001750   \n",
       "2        5                  4    1.001186    1.001750    1.001016    1.002032   \n",
       "3        5                  5    1.001355    1.001750    1.001186    1.001891   \n",
       "4        5                  6    1.001355    1.001750    1.001186    1.002032   \n",
       "\n",
       "   bid_size1  ask_size1  bid_size2  ask_size2  \n",
       "0        100        200         63        100  \n",
       "1        100        100         63        100  \n",
       "2        176        100         63          2  \n",
       "3        100        100         76         63  \n",
       "4        200        100         76          2  "
      ]
     },
     "execution_count": 8,
     "metadata": {},
     "output_type": "execute_result"
    }
   ],
   "source": [
    "df0_order_book.head()"
   ]
  },
  {
   "cell_type": "code",
   "execution_count": 9,
   "metadata": {},
   "outputs": [
    {
     "data": {
      "text/html": [
       "<div>\n",
       "<style scoped>\n",
       "    .dataframe tbody tr th:only-of-type {\n",
       "        vertical-align: middle;\n",
       "    }\n",
       "\n",
       "    .dataframe tbody tr th {\n",
       "        vertical-align: top;\n",
       "    }\n",
       "\n",
       "    .dataframe thead th {\n",
       "        text-align: right;\n",
       "    }\n",
       "</style>\n",
       "<table border=\"1\" class=\"dataframe\">\n",
       "  <thead>\n",
       "    <tr style=\"text-align: right;\">\n",
       "      <th></th>\n",
       "      <th>time_id</th>\n",
       "      <th>seconds_in_bucket</th>\n",
       "      <th>price</th>\n",
       "      <th>size</th>\n",
       "      <th>order_count</th>\n",
       "    </tr>\n",
       "  </thead>\n",
       "  <tbody>\n",
       "    <tr>\n",
       "      <th>0</th>\n",
       "      <td>5</td>\n",
       "      <td>4</td>\n",
       "      <td>1.001581</td>\n",
       "      <td>100</td>\n",
       "      <td>2</td>\n",
       "    </tr>\n",
       "    <tr>\n",
       "      <th>1</th>\n",
       "      <td>5</td>\n",
       "      <td>17</td>\n",
       "      <td>1.001369</td>\n",
       "      <td>400</td>\n",
       "      <td>4</td>\n",
       "    </tr>\n",
       "    <tr>\n",
       "      <th>2</th>\n",
       "      <td>5</td>\n",
       "      <td>34</td>\n",
       "      <td>1.001440</td>\n",
       "      <td>200</td>\n",
       "      <td>2</td>\n",
       "    </tr>\n",
       "    <tr>\n",
       "      <th>3</th>\n",
       "      <td>5</td>\n",
       "      <td>42</td>\n",
       "      <td>1.001422</td>\n",
       "      <td>126</td>\n",
       "      <td>5</td>\n",
       "    </tr>\n",
       "    <tr>\n",
       "      <th>4</th>\n",
       "      <td>5</td>\n",
       "      <td>43</td>\n",
       "      <td>1.001553</td>\n",
       "      <td>100</td>\n",
       "      <td>2</td>\n",
       "    </tr>\n",
       "  </tbody>\n",
       "</table>\n",
       "</div>"
      ],
      "text/plain": [
       "   time_id  seconds_in_bucket     price  size  order_count\n",
       "0        5                  4  1.001581   100            2\n",
       "1        5                 17  1.001369   400            4\n",
       "2        5                 34  1.001440   200            2\n",
       "3        5                 42  1.001422   126            5\n",
       "4        5                 43  1.001553   100            2"
      ]
     },
     "execution_count": 9,
     "metadata": {},
     "output_type": "execute_result"
    }
   ],
   "source": [
    "df0_trade.head()"
   ]
  },
  {
   "cell_type": "code",
   "execution_count": 11,
   "metadata": {},
   "outputs": [
    {
     "data": {
      "text/plain": [
       "(1514773, 274600, 1514773)"
      ]
     },
     "execution_count": 11,
     "metadata": {},
     "output_type": "execute_result"
    }
   ],
   "source": [
    "len(df0_order_book), len(df0_trade), len(df0_all)"
   ]
  },
  {
   "cell_type": "code",
   "execution_count": 12,
   "metadata": {},
   "outputs": [
    {
     "data": {
      "text/plain": [
       "0.18128128769129104"
      ]
     },
     "execution_count": 12,
     "metadata": {},
     "output_type": "execute_result"
    }
   ],
   "source": [
    " len(df0_trade)/len(df0_order_book)"
   ]
  },
  {
   "cell_type": "code",
   "execution_count": 13,
   "metadata": {},
   "outputs": [
    {
     "data": {
      "text/html": [
       "<div>\n",
       "<style scoped>\n",
       "    .dataframe tbody tr th:only-of-type {\n",
       "        vertical-align: middle;\n",
       "    }\n",
       "\n",
       "    .dataframe tbody tr th {\n",
       "        vertical-align: top;\n",
       "    }\n",
       "\n",
       "    .dataframe thead th {\n",
       "        text-align: right;\n",
       "    }\n",
       "</style>\n",
       "<table border=\"1\" class=\"dataframe\">\n",
       "  <thead>\n",
       "    <tr style=\"text-align: right;\">\n",
       "      <th></th>\n",
       "      <th>time_id</th>\n",
       "      <th>seconds_in_bucket</th>\n",
       "      <th>bid_price1</th>\n",
       "      <th>ask_price1</th>\n",
       "      <th>bid_price2</th>\n",
       "      <th>ask_price2</th>\n",
       "      <th>bid_size1</th>\n",
       "      <th>ask_size1</th>\n",
       "      <th>bid_size2</th>\n",
       "      <th>ask_size2</th>\n",
       "      <th>price</th>\n",
       "      <th>size</th>\n",
       "      <th>order_count</th>\n",
       "    </tr>\n",
       "  </thead>\n",
       "  <tbody>\n",
       "    <tr>\n",
       "      <th>0</th>\n",
       "      <td>5</td>\n",
       "      <td>0</td>\n",
       "      <td>1.001186</td>\n",
       "      <td>1.001581</td>\n",
       "      <td>1.001044</td>\n",
       "      <td>1.001750</td>\n",
       "      <td>100</td>\n",
       "      <td>200</td>\n",
       "      <td>63</td>\n",
       "      <td>100</td>\n",
       "      <td>NaN</td>\n",
       "      <td>NaN</td>\n",
       "      <td>NaN</td>\n",
       "    </tr>\n",
       "    <tr>\n",
       "      <th>1</th>\n",
       "      <td>5</td>\n",
       "      <td>2</td>\n",
       "      <td>1.001186</td>\n",
       "      <td>1.001581</td>\n",
       "      <td>1.001016</td>\n",
       "      <td>1.001750</td>\n",
       "      <td>100</td>\n",
       "      <td>100</td>\n",
       "      <td>63</td>\n",
       "      <td>100</td>\n",
       "      <td>NaN</td>\n",
       "      <td>NaN</td>\n",
       "      <td>NaN</td>\n",
       "    </tr>\n",
       "    <tr>\n",
       "      <th>2</th>\n",
       "      <td>5</td>\n",
       "      <td>4</td>\n",
       "      <td>1.001186</td>\n",
       "      <td>1.001750</td>\n",
       "      <td>1.001016</td>\n",
       "      <td>1.002032</td>\n",
       "      <td>176</td>\n",
       "      <td>100</td>\n",
       "      <td>63</td>\n",
       "      <td>2</td>\n",
       "      <td>1.001581</td>\n",
       "      <td>100.0</td>\n",
       "      <td>2.0</td>\n",
       "    </tr>\n",
       "    <tr>\n",
       "      <th>3</th>\n",
       "      <td>5</td>\n",
       "      <td>5</td>\n",
       "      <td>1.001355</td>\n",
       "      <td>1.001750</td>\n",
       "      <td>1.001186</td>\n",
       "      <td>1.001891</td>\n",
       "      <td>100</td>\n",
       "      <td>100</td>\n",
       "      <td>76</td>\n",
       "      <td>63</td>\n",
       "      <td>NaN</td>\n",
       "      <td>NaN</td>\n",
       "      <td>NaN</td>\n",
       "    </tr>\n",
       "    <tr>\n",
       "      <th>4</th>\n",
       "      <td>5</td>\n",
       "      <td>6</td>\n",
       "      <td>1.001355</td>\n",
       "      <td>1.001750</td>\n",
       "      <td>1.001186</td>\n",
       "      <td>1.002032</td>\n",
       "      <td>200</td>\n",
       "      <td>100</td>\n",
       "      <td>76</td>\n",
       "      <td>2</td>\n",
       "      <td>NaN</td>\n",
       "      <td>NaN</td>\n",
       "      <td>NaN</td>\n",
       "    </tr>\n",
       "  </tbody>\n",
       "</table>\n",
       "</div>"
      ],
      "text/plain": [
       "   time_id  seconds_in_bucket  bid_price1  ask_price1  bid_price2  ask_price2  \\\n",
       "0        5                  0    1.001186    1.001581    1.001044    1.001750   \n",
       "1        5                  2    1.001186    1.001581    1.001016    1.001750   \n",
       "2        5                  4    1.001186    1.001750    1.001016    1.002032   \n",
       "3        5                  5    1.001355    1.001750    1.001186    1.001891   \n",
       "4        5                  6    1.001355    1.001750    1.001186    1.002032   \n",
       "\n",
       "   bid_size1  ask_size1  bid_size2  ask_size2     price   size  order_count  \n",
       "0        100        200         63        100       NaN    NaN          NaN  \n",
       "1        100        100         63        100       NaN    NaN          NaN  \n",
       "2        176        100         63          2  1.001581  100.0          2.0  \n",
       "3        100        100         76         63       NaN    NaN          NaN  \n",
       "4        200        100         76          2       NaN    NaN          NaN  "
      ]
     },
     "execution_count": 13,
     "metadata": {},
     "output_type": "execute_result"
    }
   ],
   "source": [
    "df0_all.head()"
   ]
  },
  {
   "cell_type": "markdown",
   "metadata": {},
   "source": [
    "The features to build should be a result of aggregation. That is, for each time id and stock pair, we need to aggregate the data of different seconds in a bucket. The number of seconds is fixed as 600 for order book data, but a much smaller unfixed number for trade data.\n",
    "\n",
    "1. Can/Should the aggregation take the time lag into consideration? Something like volatility from weighted average of WAP.\n",
    "2. Craft features "
   ]
  },
  {
   "cell_type": "code",
   "execution_count": 26,
   "metadata": {},
   "outputs": [
    {
     "data": {
      "text/plain": [
       "True"
      ]
     },
     "execution_count": 26,
     "metadata": {},
     "output_type": "execute_result"
    }
   ],
   "source": [
    "df_book_data = df0_order_book\n",
    "wap1 = get_wap(bid_p = df_book_data['bid_price1'], \n",
    "                                  bid_s = df_book_data['bid_size1'], \n",
    "                                  ask_p = df_book_data['ask_price1'], \n",
    "                                  ask_s = df_book_data['ask_size1'])\n",
    "\n",
    "wap2 = get_wap_from_df(df0_order_book, \n",
    "                       bid_p = 'bid_price1', bid_s = 'bid_size1',\n",
    "                       ask_p = 'ask_price1', ask_s = 'ask_size1'\n",
    "                      )\n",
    "\n",
    "(wap1 == wap2).all()"
   ]
  },
  {
   "cell_type": "code",
   "execution_count": 38,
   "metadata": {},
   "outputs": [
    {
     "data": {
      "text/plain": [
       "True"
      ]
     },
     "execution_count": 38,
     "metadata": {},
     "output_type": "execute_result"
    }
   ],
   "source": [
    "logr_1 = log_return_per_time_id(list_order_book_file_train[0])\n",
    "logr_1 = logr_1['log_return']\n",
    "\n",
    "logr_2 = get_log_return_from_df(df0_order_book, \n",
    "                       bid_p = 'bid_price1', bid_s = 'bid_size1',\n",
    "                       ask_p = 'ask_price1', ask_s = 'ask_size1'\n",
    "                      )\n",
    "\n",
    "(logr_1 == logr_2).all()"
   ]
  },
  {
   "cell_type": "code",
   "execution_count": null,
   "metadata": {},
   "outputs": [],
   "source": []
  }
 ],
 "metadata": {
  "kernelspec": {
   "display_name": "Python 3 (ipykernel)",
   "language": "python",
   "name": "python3"
  },
  "language_info": {
   "codemirror_mode": {
    "name": "ipython",
    "version": 3
   },
   "file_extension": ".py",
   "mimetype": "text/x-python",
   "name": "python",
   "nbconvert_exporter": "python",
   "pygments_lexer": "ipython3",
   "version": "3.7.6"
  }
 },
 "nbformat": 4,
 "nbformat_minor": 4
}
